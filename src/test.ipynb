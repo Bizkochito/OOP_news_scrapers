{
 "cells": [
  {
   "cell_type": "code",
   "execution_count": 2,
   "metadata": {},
   "outputs": [],
   "source": [
    "class Scraper:\n",
    "    def __init__(self):\n",
    "        pass\n",
    "    def get_article(self, url):\n",
    "        return None\n",
    "    \n",
    "class subScraper1(Scraper):\n",
    "    def get_article(self, url):\n",
    "        return {\"text\": \"coucou\", \"auteur\": \"moi\"}\n",
    "\n",
    "class subScraper2(Scraper):\n",
    "    def get_article(self, url):\n",
    "        return {\"text\": \"bjr\", \"auteur\": \"toi\"}\n",
    "    \n",
    "class subScraper3(Scraper):\n",
    "    def get_article(self, url):\n",
    "        raise Exception('spam', 'eggs')\n",
    "    "
   ]
  },
  {
   "cell_type": "code",
   "execution_count": 3,
   "metadata": {},
   "outputs": [],
   "source": [
    "import logging\n",
    "import typing\n",
    "\n",
    "\n",
    "class Task():\n",
    "\n",
    "    tasks_logger = logging.getLogger(\"Task\")\n",
    "    tasks_logger.setLevel(logging.WARNING)\n",
    "\n",
    "    def __init__(self, scraper: Scraper, url: str) -> None:\n",
    "        self.scraper = scraper\n",
    "        self.url = url\n",
    "        self.no_of_trys= 0\n",
    "\n",
    "    def process(self):\n",
    "        try:\n",
    "            return self.scraper.get_article(self.url)\n",
    "        except:\n",
    "            self.tasks_logger.warning(f\"Issue processing Task at url: {self.url}\")\n",
    "            self.no_of_trys += 1\n",
    "            return self"
   ]
  },
  {
   "cell_type": "code",
   "execution_count": 4,
   "metadata": {},
   "outputs": [
    {
     "name": "stderr",
     "output_type": "stream",
     "text": [
      "Issue processing Task at url: wesh\n",
      "Issue processing Task at url: wesh\n",
      "Issue processing Task at url: wesh\n",
      "Issue processing Task at url: wesh\n",
      "Issue processing Task at url: wesh\n",
      "Issue processing Task at url: wesh\n",
      "Issue processing Task at url: wesh\n"
     ]
    },
    {
     "name": "stdout",
     "output_type": "stream",
     "text": [
      "<class '__main__.Task'>\n",
      "<class '__main__.Task'>\n",
      "<class 'dict'>\n",
      "<class 'dict'>\n",
      "<class 'dict'>\n",
      "<class 'dict'>\n",
      "<class 'dict'>\n",
      "<class 'dict'>\n",
      "<class '__main__.Task'>\n",
      "<class 'dict'>\n",
      "<class '__main__.Task'>\n",
      "<class 'dict'>\n",
      "<class 'dict'>\n",
      "<class 'dict'>\n",
      "<class 'dict'>\n",
      "<class 'dict'>\n",
      "<class 'dict'>\n",
      "<class '__main__.Task'>\n",
      "<class 'dict'>\n",
      "<class 'dict'>\n",
      "<class '__main__.Task'>\n",
      "<class 'dict'>\n",
      "<class 'dict'>\n",
      "<class 'dict'>\n",
      "<class '__main__.Task'>\n"
     ]
    }
   ],
   "source": [
    "import random\n",
    "\n",
    "scrapers =  [subScraper1(), subScraper2(), subScraper3()]\n",
    "tasks = [Task(random.choice(scrapers), \"wesh\") for _ in range(25)]\n",
    "\n",
    "tasks = [task.process() for task in tasks]\n",
    "\n",
    "for task in tasks:\n",
    "    print(type(task))"
   ]
  },
  {
   "cell_type": "code",
   "execution_count": 19,
   "metadata": {},
   "outputs": [
    {
     "name": "stdout",
     "output_type": "stream",
     "text": [
      "['coucou', 'ca va']\n"
     ]
    }
   ],
   "source": [
    "try:\n",
    "   import cPickle as pickle\n",
    "except:\n",
    "   import pickle\n",
    "import os.path\n",
    "import pandas as pd\n",
    "import datetime\n",
    "\n",
    "\n",
    "\n",
    "class ScrapingManager():\n",
    "    save_file = \"savestate\"\n",
    "    articles_db = \"articles\"\n",
    "    \n",
    "    def __init__(self):\n",
    "        self.scrapers=[]\n",
    "        self.tasks = []\n",
    "        self.df = pd.DataFrame()\n",
    "        self.last_date = datetime.datetime.today()\n",
    "\n",
    "    def save(self):\n",
    "        f = open(self.save_file, 'wb')\n",
    "        pickle.dump(self, f, 2)\n",
    "        f.close()\n",
    "\n",
    "    def add_task(self):\n",
    "        self.tasks.append(\"coucou\")\n",
    "        self.tasks.append(\"ca va\")\n",
    "\n",
    "    def add_scraper(self, Scraper):\n",
    "        self.scrapers.append(Scraper)\n",
    "\n",
    "    @classmethod\n",
    "    def loader(self):\n",
    "        with open(self.save_file, 'rb') as pickle_file:\n",
    "            return pickle.load(pickle_file)\n",
    "\n",
    "    \n",
    "    def resume():\n",
    "        pass\n",
    "\n",
    "if __name__ == \"__main__\":\n",
    "    #scrapingManager = ScrapingManager()\n",
    "    #scrapingManager.add_task()\n",
    "    #scrapingManager.save()\n",
    "    scrapingManager = ScrapingManager.loader()\n",
    "    #scrapingManager.add_task()\n",
    "    print(scrapingManager.tasks)\n"
   ]
  },
  {
   "cell_type": "code",
   "execution_count": 5,
   "metadata": {},
   "outputs": [
    {
     "ename": "SyntaxError",
     "evalue": "invalid syntax (269545632.py, line 1)",
     "output_type": "error",
     "traceback": [
      "\u001b[0;36m  Cell \u001b[0;32mIn[5], line 1\u001b[0;36m\u001b[0m\n\u001b[0;31m    list_a, list_b, list_c =\u001b[0m\n\u001b[0m                            ^\u001b[0m\n\u001b[0;31mSyntaxError\u001b[0m\u001b[0;31m:\u001b[0m invalid syntax\n"
     ]
    }
   ],
   "source": [
    "list_a, list_b, list_c ="
   ]
  },
  {
   "cell_type": "code",
   "execution_count": null,
   "metadata": {},
   "outputs": [
    {
     "name": "stdout",
     "output_type": "stream",
     "text": [
      "True\n"
     ]
    }
   ],
   "source": [
    "import os.path\n",
    "savefile_path = \"scrapers/savefile.json\"\n",
    "check_file = os.path.isfile(savefile_path)\n",
    "\n",
    "print(check_file)"
   ]
  }
 ],
 "metadata": {
  "kernelspec": {
   "display_name": "venv",
   "language": "python",
   "name": "python3"
  },
  "language_info": {
   "codemirror_mode": {
    "name": "ipython",
    "version": 3
   },
   "file_extension": ".py",
   "mimetype": "text/x-python",
   "name": "python",
   "nbconvert_exporter": "python",
   "pygments_lexer": "ipython3",
   "version": "3.10.12"
  },
  "orig_nbformat": 4
 },
 "nbformat": 4,
 "nbformat_minor": 2
}
