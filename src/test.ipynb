{
 "cells": [
  {
   "cell_type": "code",
   "execution_count": 2,
   "metadata": {},
   "outputs": [],
   "source": [
    "class Scraper:\n",
    "    def __init__(self):\n",
    "        pass\n",
    "    def get_article(self, url):\n",
    "        return None\n",
    "    \n",
    "class subScraper1(Scraper):\n",
    "    def get_article(self, url):\n",
    "        return {\"text\": \"coucou\", \"auteur\": \"moi\"}\n",
    "\n",
    "class subScraper2(Scraper):\n",
    "    def get_article(self, url):\n",
    "        return {\"text\": \"bjr\", \"auteur\": \"toi\"}\n",
    "    \n",
    "class subScraper3(Scraper):\n",
    "    def get_article(self, url):\n",
    "        raise Exception('spam', 'eggs')\n",
    "    "
   ]
  },
  {
   "cell_type": "code",
   "execution_count": 3,
   "metadata": {},
   "outputs": [],
   "source": [
    "import logging\n",
    "import typing\n",
    "\n",
    "\n",
    "class Task():\n",
    "\n",
    "    tasks_logger = logging.getLogger(\"Task\")\n",
    "    tasks_logger.setLevel(logging.WARNING)\n",
    "\n",
    "    def __init__(self, scraper: Scraper, url: str) -> None:\n",
    "        self.scraper = scraper\n",
    "        self.url = url\n",
    "        self.no_of_trys= 0\n",
    "\n",
    "    def process(self):\n",
    "        try:\n",
    "            return self.scraper.get_article(self.url)\n",
    "        except:\n",
    "            self.tasks_logger.warning(f\"Issue processing Task at url: {self.url}\")\n",
    "            self.no_of_trys += 1\n",
    "            return self"
   ]
  },
  {
   "cell_type": "code",
   "execution_count": 9,
   "metadata": {},
   "outputs": [
    {
     "name": "stdout",
     "output_type": "stream",
     "text": [
      "25\n",
      "24\n",
      "23\n",
      "22\n",
      "21\n",
      "20\n",
      "19\n",
      "18\n",
      "17\n",
      "16\n",
      "15\n",
      "14\n",
      "13\n",
      "[{'text': 'coucou', 'auteur': 'moi'}, {'text': 'coucou', 'auteur': 'moi'}, {'text': 'coucou', 'auteur': 'moi'}, {'text': 'coucou', 'auteur': 'moi'}, {'text': 'coucou', 'auteur': 'moi'}, {'text': 'bjr', 'auteur': 'toi'}, {'text': 'coucou', 'auteur': 'moi'}, {'text': 'bjr', 'auteur': 'toi'}, {'text': 'coucou', 'auteur': 'moi'}, {'text': 'bjr', 'auteur': 'toi'}, {'text': 'bjr', 'auteur': 'toi'}, {'text': 'bjr', 'auteur': 'toi'}]\n"
     ]
    }
   ],
   "source": [
    "import random\n",
    "\n",
    "scrapers =  [subScraper1(), subScraper2()]\n",
    "tasks = [Task(random.choice(scrapers), \"wesh\") for _ in range(25)]\n",
    "\n",
    "tasks = [task.process() for task in tasks]\n",
    "\n",
    "for task in tasks:\n",
    "    print(len(tasks))\n",
    "    tasks.remove(task)\n",
    "print(tasks)"
   ]
  },
  {
   "cell_type": "code",
   "execution_count": 10,
   "metadata": {},
   "outputs": [
    {
     "name": "stdout",
     "output_type": "stream",
     "text": [
      "1\n",
      "[2, 3, 4, 5]\n",
      "3\n",
      "[2, 4, 5]\n",
      "5\n",
      "[2, 4]\n",
      "[2, 4]\n"
     ]
    }
   ],
   "source": [
    "myList = [1, 2, 3, 4, 5]\n",
    "for nmb in myList:\n",
    "    print(nmb)\n",
    "    myList.remove(nmb)\n",
    "    print(myList)\n",
    "\n",
    "print(myList)\n"
   ]
  },
  {
   "cell_type": "code",
   "execution_count": 5,
   "metadata": {},
   "outputs": [
    {
     "name": "stdout",
     "output_type": "stream",
     "text": [
      "[1, 2, 3, 4, 5, 6]\n"
     ]
    }
   ],
   "source": [
    "list_a = [1,2,3]\n",
    "list_b = [4,5,6]\n",
    "list_c = []\n",
    "list_c.extend(list_a)\n",
    "list_c.extend(list_b)\n",
    "print(list_c)\n"
   ]
  },
  {
   "cell_type": "code",
   "execution_count": 6,
   "metadata": {},
   "outputs": [
    {
     "ename": "SyntaxError",
     "evalue": "invalid syntax (269545632.py, line 1)",
     "output_type": "error",
     "traceback": [
      "\u001b[0;36m  Cell \u001b[0;32mIn[6], line 1\u001b[0;36m\u001b[0m\n\u001b[0;31m    list_a, list_b, list_c =\u001b[0m\n\u001b[0m                            ^\u001b[0m\n\u001b[0;31mSyntaxError\u001b[0m\u001b[0;31m:\u001b[0m invalid syntax\n"
     ]
    }
   ],
   "source": [
    "list_a, list_b, list_c ="
   ]
  },
  {
   "cell_type": "code",
   "execution_count": null,
   "metadata": {},
   "outputs": [
    {
     "name": "stdout",
     "output_type": "stream",
     "text": [
      "True\n"
     ]
    }
   ],
   "source": [
    "import os.path\n",
    "savefile_path = \"scrapers/savefile.json\"\n",
    "check_file = os.path.isfile(savefile_path)\n",
    "\n",
    "print(check_file)"
   ]
  }
 ],
 "metadata": {
  "kernelspec": {
   "display_name": "venv",
   "language": "python",
   "name": "python3"
  },
  "language_info": {
   "codemirror_mode": {
    "name": "ipython",
    "version": 3
   },
   "file_extension": ".py",
   "mimetype": "text/x-python",
   "name": "python",
   "nbconvert_exporter": "python",
   "pygments_lexer": "ipython3",
   "version": "3.10.12"
  },
  "orig_nbformat": 4
 },
 "nbformat": 4,
 "nbformat_minor": 2
}
